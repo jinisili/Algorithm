{
 "cells": [
  {
   "cell_type": "raw",
   "metadata": {
    "vscode": {
     "languageId": "raw"
    }
   },
   "source": [
    "---\n",
    "title: \"DFS\"\n",
    "author: \"김진실\"\n",
    "date: \"08/07/2024\"\n",
    "---"
   ]
  },
  {
   "cell_type": "markdown",
   "metadata": {},
   "source": [
    "`-` 재귀, 스택 / 인접 리스트, 인접 행렬"
   ]
  },
  {
   "cell_type": "markdown",
   "metadata": {},
   "source": [
    "## 개념\n",
    "\n",
    "- DFS(Depth First Search)란 깊이 우선 탐색으로, 그래프를 탐색하는 방법이다.\n",
    "- 시작 노드에서 한 방향으로 깊이 탐색하다가 갈 곳이 없게 되면 마지막에 방문한 노드로 돌아가서 다른 방향으로 탐색을 반복하여 모든 정점을 방문하는 방법이다."
   ]
  },
  {
   "cell_type": "markdown",
   "metadata": {},
   "source": [
    "## 구현"
   ]
  },
  {
   "cell_type": "markdown",
   "metadata": {},
   "source": [
    "0. 입력\n",
    "\n",
    "```python\n",
    "# V: 노드의 개수\n",
    "# E: 인접한 노드 쌍의 개수\n",
    "V, E = 5, 5\n",
    "# edges: 인접한 노드 쌍\n",
    "edges = [1, 2, 1, 3, 2, 4, 2, 5, 4, 5]\n",
    "```"
   ]
  },
  {
   "cell_type": "markdown",
   "metadata": {},
   "source": [
    "1. 인접 리스트 또는 인접 행렬 생성\n",
    "\n",
    "- 인접 리스트\n",
    "\n",
    "```python\n",
    "\n",
    "# V: 노드의 개수\n",
    "# E: 인접한 노드 쌍의 개수\n",
    "V, E = 5, 5\n",
    "# edges: 인접한 노드 쌍\n",
    "edges = [1, 2, 1, 3, 2, 4, 2, 5, 4, 5]\n",
    "graph = [[]]"
   ]
  },
  {
   "cell_type": "markdown",
   "metadata": {
    "vscode": {
     "languageId": "raw"
    }
   },
   "source": [
    "1-1. 인접 리스트"
   ]
  },
  {
   "cell_type": "raw",
   "metadata": {},
   "source": []
  }
 ],
 "metadata": {
  "kernelspec": {
   "display_name": "Python 3",
   "language": "python",
   "name": "python3"
  },
  "language_info": {
   "codemirror_mode": {
    "name": "ipython",
    "version": 3
   },
   "file_extension": ".py",
   "mimetype": "text/x-python",
   "name": "python",
   "nbconvert_exporter": "python",
   "pygments_lexer": "ipython3",
   "version": "3.10.13"
  }
 },
 "nbformat": 4,
 "nbformat_minor": 2
}
