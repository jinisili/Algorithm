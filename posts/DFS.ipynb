{
 "cells": [
  {
   "cell_type": "raw",
   "metadata": {
    "vscode": {
     "languageId": "raw"
    }
   },
   "source": [
    "---\n",
    "title: \"DFS\"\n",
    "author: \"김진실\"\n",
    "date: \"08/07/2024\"\n",
    "---"
   ]
  },
  {
   "cell_type": "markdown",
   "metadata": {},
   "source": [
    "`-` 인접 리스트 / 재귀 / 스택"
   ]
  },
  {
   "cell_type": "markdown",
   "metadata": {},
   "source": [
    "# 개념\n",
    "\n",
    "- DFS(Depth First Search)란 깊이 우선 탐색으로, 그래프를 탐색하는 방법이다.\n",
    "- 시작 노드에서 한 방향으로 깊이 탐색하다가 갈 곳이 없게 되면 마지막에 방문한 노드로 돌아가서 다른 방향으로 탐색을 반복하여 모든 정점을 방문하는 방법이다."
   ]
  },
  {
   "cell_type": "markdown",
   "metadata": {},
   "source": [
    "# 구현"
   ]
  },
  {
   "cell_type": "markdown",
   "metadata": {},
   "source": [
    "## 0. 입력\n",
    "\n",
    "```python\n",
    "# V: 노드의 개수\n",
    "# E: 인접한 노드 쌍의 개수\n",
    "V, E = 5, 5\n",
    "# edges: 인접한 노드 쌍\n",
    "edges = [1, 2, 1, 3, 2, 4, 2, 5, 4, 5]\n",
    "```"
   ]
  },
  {
   "cell_type": "markdown",
   "metadata": {},
   "source": [
    "## 1. 인접 리스트 생성\n",
    "\n",
    "```python\n",
    "# 리스트로 구현\n",
    "graph = [[] for _ in range(V+1)]\n",
    "\n",
    "# 딕셔너리로 구현\n",
    "# 노드가 숫자가 아닐 때도 사용 가능\n",
    "graph = {i+1:[] for i in range(V)}\n",
    "from collections import defaultdict\n",
    "graph = defaultdict(list)\n",
    "\n",
    "# 인접 리스트 생성\n",
    "for i in range(E):\n",
    "    # 2개가 한 묶음\n",
    "    v1, v2 = edges[i*2], edges[i*2+1]\n",
    "    # 양방향 그래프\n",
    "    graph[v1].append(v2)\n",
    "    graph[v2].append(v1)\n",
    "\n",
    "# 인접한 노드 중 노드 번호가 작은 것부터 방문 (리스트)\n",
    "for node, edges in enumerate(graph):\n",
    "    # 재귀\n",
    "    graph[node] = sorted(edges)\n",
    "    # 스택\n",
    "    graph[node] = sorted(edges, reverse=True)\n",
    "\n",
    "# 인접한 노드 중 노드 번호가 작은 것부터 방문 (딕셔너리)\n",
    "for node, edges in graph.items():\n",
    "    # 재귀\n",
    "    graph[node] = sorted(edges)\n",
    "    # 스택\n",
    "    graph[node] = sorted(edges, reverse=True)\n",
    "```"
   ]
  },
  {
   "cell_type": "markdown",
   "metadata": {
    "vscode": {
     "languageId": "raw"
    }
   },
   "source": [
    "## 2. 함수 구현"
   ]
  },
  {
   "cell_type": "markdown",
   "metadata": {
    "vscode": {
     "languageId": "raw"
    }
   },
   "source": [
    "### 2-1. 재귀\n",
    "\n",
    "```python\n",
    "def dfs_recursive(cur_node):\n",
    "    # 방문한 노드 처리\n",
    "    visited[cur_node] = 1\n",
    "    print(cur_node, end=' ')\n",
    "\n",
    "    # 현재 노드와 인접한 다음 노드 탐색\n",
    "    for next_node in graph[cur_node]:\n",
    "        # 방문한 적이 없는 노드라면\n",
    "        if not visited[next_node]:\n",
    "            # 방문하기\n",
    "            dfs_recursive(next_node)\n",
    "\n",
    "\n",
    "visited = [0] * (V+1)\n",
    "dfs_recursive(1)\n",
    "```"
   ]
  },
  {
   "cell_type": "markdown",
   "metadata": {},
   "source": [
    "### 2-2. 스택\n",
    "\n",
    "```python\n",
    "def dfs_stack1(start_node):\n",
    "    stack = [start_node]\n",
    "\n",
    "    # stack에 남은 것이 없을 때까지 반복\n",
    "    while stack:\n",
    "        cur_node = stack.pop()\n",
    "\n",
    "        # 방문한 적이 있는 경우 재방문 X\n",
    "        if visited[cur_node]:\n",
    "            continue\n",
    "\n",
    "        # 방문한 노드 처리\n",
    "        visited[cur_node] = 1\n",
    "        print(cur_node, end=' ')\n",
    "\n",
    "        # 현재 노드와 연결된 노드 중 방문하지 않은 노드만 stack에 추가\n",
    "        for next_node in graph[cur_node]:\n",
    "            if not visited[next_node]:\n",
    "                stack.append(next_node)\n",
    "\n",
    "\n",
    "visited = [0] * (V+1)\n",
    "dfs_stack1(1)\n",
    "```"
   ]
  }
 ],
 "metadata": {
  "kernelspec": {
   "display_name": "Python 3",
   "language": "python",
   "name": "python3"
  },
  "language_info": {
   "codemirror_mode": {
    "name": "ipython",
    "version": 3
   },
   "file_extension": ".py",
   "mimetype": "text/x-python",
   "name": "python",
   "nbconvert_exporter": "python",
   "pygments_lexer": "ipython3",
   "version": "3.10.13"
  }
 },
 "nbformat": 4,
 "nbformat_minor": 2
}
